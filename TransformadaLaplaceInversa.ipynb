{
  "cells": [
    {
      "cell_type": "markdown",
      "metadata": {
        "id": "7Vno5R-ypgXH"
      },
      "source": [
        "# Transformada de Laplace inversa\n",
        "\n",
        "Renato Naville Watanabe\n"
      ]
    },
    {
      "cell_type": "markdown",
      "metadata": {
        "id": "1GPuQIuBpgXL"
      },
      "source": [
        "Aqui vamos desenvolver um método para obter o sinal $x(t)$ a partir da sua transformada de Laplace. Esse procedimento é conhecido como **Transformada de Laplace Inversa**, denotada pelo operador $\\mathcal{L}^{-1}$.\n",
        "\n",
        "$\\mathcal{L}^{-1}(X(s)) = x(t)$\n",
        "\n",
        "A transformada de Laplace inversa é definida como:\n",
        "\n",
        "$$x(t) = \\frac{1}{2\\pi j}\\int_{c-j\\infty}^{c+j\\infty} X(s)e^{st}\\,ds$$\n",
        "\n",
        "Essa é uma integral no plano complexo. Felizmente, não precisaremos calcular essa integral. Nós usaremos os pares de sinais e transformadas já tabelados. Essa tabela é mostrada abaixo. Para sinais menos comuns, pode ser  necessário calcular essa integral. Se você estiver interessado nisso, pode procurar o livro de Brown e Churchill, listado nas referências, ou a disciplina *Funções de variáveis complexas* da UFABC.\n",
        "\n"
      ]
    },
    {
      "cell_type": "markdown",
      "metadata": {
        "id": "S8X9k6cipgXM"
      },
      "source": [
        "\n",
        "\n",
        "Abaixo segue uma tabela com alguns sinais encontrados frequentemente na prática:\n",
        "\n",
        "|$\\bf{x(t)}$                          | $\\bf{X(s)}$                                                            |\n",
        "|-------------------------------------|------------------------------------------------------------------------|\n",
        "|$\\delta(t)$                          | 1                                                                      |\n",
        "|$\\delta(t-t_0)$                      | $e^{-st_0}$                                                            |\n",
        "|$u(t)$                               | $\\frac{1}{s}$                                                          |\n",
        "|$u(t-t_0)$                           | $\\frac{e^{-st}}{s}$                                                    |    \n",
        "|$tu(t)$                              | $\\frac{1}{s^2}$                                                        |\n",
        "|$t^nu(t)$                            | $\\frac{n!}{s^{n+1}}$                                                   |\n",
        "|$e^{\\lambda t}u(t)$                  | $\\frac{1}{s-\\lambda}$                                                  |\n",
        "|$te^{\\lambda t}u(t)$                 | $\\frac{1}{(s-\\lambda)^2}$                                              |\n",
        "|$e^{-at}\\cos(b t)u(t)$, $a>0$        |$\\frac{s+a}{(s+a)^2+b^2}$                                               |\n",
        "|$e^{-at}\\mathrm{sen}(b t)u(t)$, $a>0$|$\\frac{b}{(s+a)^2+b^2}$|"
      ]
    },
    {
      "cell_type": "markdown",
      "metadata": {
        "id": "V7kco1CJpgXO"
      },
      "source": [
        "Anteriormente, já vimos que para $x(t) = e^{-at}u(t)$, a transformada de Laplace é::\n",
        "\n",
        "$X(s) = \\frac{1}{s+a}$\n",
        "\n",
        "Como estamos usando a transformada de Laplace unilateral, a relação entre o sinal $x(t)$ e a sua transformada de Laplace é única. Isso significa que se tivermos a transformada de Laplace $X(s) = \\frac{1}{s+a}$, conseguimos obter o sinal $x(t)$ que gerou aquela transformada de Laplace:\n",
        "\n",
        "$x(t) = e^{-at}u(t)$\n",
        "\n"
      ]
    },
    {
      "cell_type": "markdown",
      "metadata": {
        "id": "xwh13UVEpgXO"
      },
      "source": [
        "---\n",
        "\n",
        "## Exemplo 1\n",
        "\n",
        "Considerando $X(s) = \\frac{1}{s+0,3}$\n",
        "\n",
        "A sua transformada de Laplace inversa é:\n",
        "\n",
        "$x(t) = e^{-0.3t}u(t)$\n",
        "\n",
        "---"
      ]
    },
    {
      "cell_type": "markdown",
      "metadata": {
        "id": "ZKJVlj7zpgXP"
      },
      "source": [
        "---\n",
        "\n",
        "## Exemplo 2\n",
        "\n",
        "Considerando $X(s) = \\frac{s}{s+9}$\n",
        "\n",
        "A sua transformada de Laplace inversa é:\n",
        "\n",
        "$x(t) = \\cos(3t)u(t)$\n",
        "\n",
        "\n",
        "---"
      ]
    },
    {
      "cell_type": "markdown",
      "metadata": {
        "id": "jCDtY5RJpgXQ"
      },
      "source": [
        "Porém ao tentar fazer a transformada inversa de transformadas de Laplace como as mostradas abaixo, não conseguimos encontrar a sua transformada inversa diretamente.\n",
        "\n",
        "$X_1(s) = \\frac{s-3}{s^2 + 3s-3}$\n",
        "\n",
        "$X_2(s) = \\frac{s^2+0.2}{s^3 + 0.5s-1}$\n",
        "\n",
        "$X_3(s) = \\frac{s^2+0.2s+1}{z^4 +0.4s^3 - 0.3s^2-s}$\n",
        "\n",
        "Estas transformadas de Laplace não têm um correspondente direto na tabela. Então para conseguirmos achar o sinal que gerou essas transformadas de Laplace precisamos reescrever a expressão de $X(s)$ em uma soma de expressões conhecidas. A maneira que iremos reescrever é a seguinte:\n",
        "\n",
        "$$X(s) =  \\frac{b_Ms^M +...+b_2s^2+b_1s + b_0}{1 + a_{1}s+...+a_Ns^N} = A_0 + \\frac{A_1}{s-p_1} + \\frac{A_2}{s-p_2} + ... + \\frac{A_N}{s-p_N}$$\n",
        "\n",
        "em que $p_i$ são os polos de $X(s)$. O método que nos permite reescrever a expressão de $X(s)$ nesse formato é conhecido como **método das frações parciais**."
      ]
    },
    {
      "cell_type": "markdown",
      "metadata": {
        "id": "w5hxFIycpgXQ"
      },
      "source": [
        "## Método das Frações Parciais\n",
        "\n",
        "No método das frações parciais, primeiro reescrevemos a expressão de $X(z)$ no formato de polos e zeros.\n",
        "\n",
        "$X(s) = \\frac{b_Ms^M +...+b_2s^2+b_1s + b_0}{1 + a_{1}s+...+a_Ns^N} = \\frac{G(s-z_1)(s-z_2)...(s-z_M)}{(s-p_1)(s-p_2)...(s-p_N)}$\n",
        "\n",
        "Queremos chegar no formato:\n",
        "\n",
        " $X(s) =  A_0 + \\frac{A_1}{s-p_1} + \\frac{A_2}{s-p_2} + ... + \\frac{A_N}{s-p_N}$\n",
        "\n",
        "### Caso em que $M<N$ com polos distintos\n",
        "\n",
        "Vamos considerar primeiro o caso em que $M<N$. Nesse caso,\n",
        "\n",
        "**1-** Então, igualamos as duas expressões:\n",
        "\n",
        "$\\frac{G(s-z_1)(s-z_2)...(s-z_M)}{(s-p_1)(s-p_2)...(s-p_N)}=A_0 + \\frac{A_1}{s-p_1} + \\frac{A_2}{s-p_2} + ... + \\frac{A_N}{s-p_N}$\n",
        "\n",
        "**2-** O que resta agora é encontrar os valores de $A_i$. Para isso, para cada $p_i$, multiplicamos os dois lados por $(s-p_i)$. Abaixo, para $p_1$.\n",
        "\n",
        "$\\frac{(s-p_1)G(z-z_1)(s-z_2)...(s-z_M)}{(s-p_1)(s-p_2)...(s-p_N)}=A_0(s-p_1) + \\frac{A_1(s-p_1)}{s-p_1} + \\frac{A_2(s-p_1)}{s-p_2} + ... + \\frac{A_N(s-p_1)}{s-p_N}$\n",
        "\n",
        "**3-** Perceba, que conseguimos cancelar os termos $(s-p_1)$ do lado esquerdo da igualdade e no termo sendo multiplicado por $A_1$.\n",
        "\n",
        "$\\frac{G(s-z_1)(s-z_2)...(s-z_M)}{(s-p_2)...(s-p_N)}=A_0(s-p_1) + A_1 + \\frac{A_2(s-p_1)}{s-p_2} + ... + \\frac{A_N(s-p_1)}{s-p_N}$\n",
        "\n",
        "**4 -** Após isso, substituir $s$ pelo valor de $p_1$.\n",
        "\n",
        "$\\left.\\frac{A(s-z_1)(s-z_2)...(s-z_M)}{(s-p_2)...(s-p_N)}\\right|_{s=p_1} =\\left.A_0(s-p_1)\\right|_{s=p_1} + A_1 + \\left.\\frac{A_2(s-p_1)}{s-p_2}\\right|_{s=p_1} + ... + \\left.\\frac{A_N(s-p_1)}{s-p_N}\\right|_{s=p_1}$\n",
        "\n",
        "**5-** Todos os termos do lado direito (com exceção do $A_1$) são zerados ao fazer essa substituição. Então, conseguimos encontrar o valor de $A_1$:\n",
        "\n",
        "$A_1 = \\frac{G(p_1-z_1)(p_1-z_2)...(p_1-z_M)}{(p_1-p_2)...(p_1-p_N)} $\n",
        "\n",
        "**6-** Para encontrar o valor dos outros $A_i$, basta repetir os passos 2 até 5 para cada $p_i$. Para o caso de $M<N$, $A_0 = 0$.\n",
        "\n",
        "**7-** Tendo encontrado todos os valores de $A_i$, agora é possível fazer a transformada de Laplace inversa de cada termo.\n",
        "\n"
      ]
    },
    {
      "cell_type": "markdown",
      "metadata": {
        "id": "2I31RNk0pgXU"
      },
      "source": [
        "---\n",
        "\n",
        "#### Exemplo 3\n",
        "\n",
        "Conideramos aqui a transformada $X(s)$ dada pela seguinte expressão:\n",
        "\n",
        "$$X(s) = \\frac{s^2-0.3s-0.1}{s^3+0.2s^2-0.11s-0.012}$$\n",
        "\n",
        "$X(s)$ pode ser reescrito da seguinte forma, com seus polos e zeros sendo mostrados explicitamente:\n",
        "\n",
        "$$X(s) = \\frac{(s-0.5)(s+0.2)}{(s+0.1)(s+0.4)(s-0.3)}$$\n",
        "\n",
        "São 3 polos. Então,fazemos:\n",
        "\n",
        "$\\frac{(s-0.5)(s+0.2)}{(s+0.1)(s+0.4)(s-0.3)} = \\frac{A_1}{s+0.1} + \\frac{A_2}{s+0.4} + \\frac{A_3}{s-0.3}$\n",
        "\n",
        "Começando o procedimeto por $(s+0.1)$:\n",
        "\n",
        "$\\frac{(s+0.1)(s-0.5)(s+0.2)}{(s+0.1)(s+0.4)(s-0.3)} = \\frac{A_1(s+0.1)}{s+0.1} + \\frac{A_2(s+0.1)}{s+0.4} + \\frac{A_3(s+0.1)}{s-0.3} \\rightarrow \\frac{(s-0.5)(s+0.2)}{(s+0.4)(s-0.3)} = A_1 + \\frac{A_2(s+0.1)}{s+0.4} + \\frac{A_3(s+0.1)}{s-0.3} $\n",
        "\n",
        "Substituindo $s$ por $-0.1$:\n",
        "\n",
        "$A_1 = \\frac{(-0.1-0.5)(-0.1+0.2)}{(-0.1+0.4)(-0.1-0.3)} = 0.5$\n",
        "\n",
        "Multiplicando agora por $(s+0.4)$:\n",
        "\n",
        "$\\frac{(s+0.4)(s-0.5)(s+0.2)}{(s+0.1)(s+0.4)(s-0.3)} = \\frac{A_1(s+0.4)}{s+0.1} + \\frac{A_2(s+0.4)}{s+0.4} + \\frac{A_3(s+0.4)}{s-0.3} \\rightarrow \\frac{(s-0.5)(s+0.2)}{(s+0.1)(s-0.3)} = \\frac{A_1(s+0.4)}{s+0.1} + A_2 + \\frac{A_3(s+0.4)}{s-0.3} $\n",
        "\n",
        "Substituindo $s$ por $-0.4$:\n",
        "\n",
        "$A_2 = \\frac{(-0.4-0.5)(-0.4+0.2)}{(-0.4+0.1)(-0.4-0.3)}=0.86$\n",
        "\n",
        "Por fim, multiplicando por $(s-0.3)$:\n",
        "\n",
        "$\\frac{(s-0.3)(s-0.5)(s+0.2)}{(s+0.1)(s+0.4)(s-0.3)} = \\frac{A_1(s-0.3)}{s+0.1} + \\frac{A_2(s-0.3)}{s+0.4} + \\frac{A_3(s-0.3)}{s-0.3} \\rightarrow \\frac{(s-0.5)(s+0.2)}{(s+0.1)(s+0.4)} = \\frac{A_1(s-0.3)}{s+0.1} + \\frac{A_2(s-0.3)}{s+0.4} + A_3$\n",
        "\n",
        "Substituindo $s$ por $0.3$:\n",
        "\n",
        "$A_3 = \\frac{(0.3-0.5)(0.3+0.2)}{(0.3+0.1)(0.3+0.4)}=-0.36$\n",
        "\n",
        "Então, podemos reescrever $X(s)$ como:\n",
        "\n",
        "$X(s) = \\frac{0.5}{s+0.1} + \\frac{0.86}{s+0.4} - \\frac{0.36}{s-0.3}$\n",
        "\n",
        "Com isso, é fácil fazer a transformada inversa de cada um dos termos e recuperar o sinal $x(t)$:\n",
        "\n",
        "$x(t) = 0.5e^{-0.1t}u(t) +  0.86e^{-0.4t}u(t) - 0.36e^{-0.3t}u(t)$\n",
        "\n",
        "---"
      ]
    },
    {
      "cell_type": "markdown",
      "metadata": {
        "id": "jYD_FlmZpgXX"
      },
      "source": [
        "---\n",
        "\n",
        "#### Exemplo 4\n",
        "\n",
        "Considere a seguinte transformada Z:\n",
        "\n",
        "$X(s) = \\frac{s+0.2}{s^3-0.5s^2+0.33s-0.029}$\n",
        "\n",
        "$X(s)$ pode ser reescrito na forma de polos e zeros como:\n",
        "\n",
        "$X(s) = \\frac{s+0.2}{(s-0.1)(s-0.2 - j0.5)(s-0.2+j0.5)}$\n",
        "\n",
        "Então temos que reescrever $X(z)$ como:\n",
        "\n",
        "$\\frac{s+0.2}{(s-0.1)(s-0.2 - j0.5)(s-0.2+j0.5)} = \\frac{A_1}{s-0.1} + \\frac{A_2}{s-0.2 - j0.5} + \\frac{A_3}{s-0.2 + j0.5}$\n",
        "\n",
        "Encontrando  o coeficiente $A_1$:\n",
        "\n",
        "$A_1 = \\left.\\frac{s+0.2}{(s-0.2 - j0.5)(s-0.2+j0.5)}\\right|_{s=0.1} = 1,15$\n",
        "\n",
        "Agora, encontrando $A_2$:\n",
        "\n",
        "$A_2 = \\left.\\frac{s+0.2}{(s-0.1)(s-0.2+j0.5)}\\right|_{s=0.2+j0.5} = -0,58 - j1,12 = 1,26e^{-j2,05}$\n",
        "\n",
        "e A_3:\n",
        "\n",
        "$A_3 = \\left.\\frac{s+0.2}{(s-0.1)(s-0.2-j0.5)}\\right|_{s=0.2-j0.5} = -0,58 + j1,12 = 1,26e^{j2,05}$\n",
        "\n",
        "Repare que $A_3$ é o complexo conjugado de $A_2$. Isso sempre vai acontecer no caso de polos complexos.\n",
        "\n",
        "Então, $X(s)$ é:\n",
        "\n",
        "$X(s) = \\frac{1,15}{s-0.1} + \\frac{1,26e^{-j2,05}}{s-0.2 - j0.5} + \\frac{1,26e^{j2,05}}{s-0.2 + j0.5}$\n",
        "\n",
        "Então, a transformada de Laplace inversa de $X(s)$ é:\n",
        "\n",
        "$x(t) = 1,15e^{0.1t}u(t) + 1,26e^{-j2,05}e^{(0.2+j0.5)t}u(t) + 1,26e^{j2,05}e^{(0.2-j0.5)t}u(t) = 1,15e^{0.1t}u(t) + 1,26e^{0.2t}e^{-j2,05}e^{j0.5t}u(t) + 1,26e^{0.2t}e^{j2,05}e^{-j0.5t}u(t)$\n",
        "\n",
        "Aqui, talvez você possa achar que calculou os polos de $X(s)$ errado, já que $x(t)$ é uma expressão complexa. Mas repare que é possível usar a fórmula de Euler para obtermos cossenos. Sempre que aparecerem polos complexos isso será possível:\n",
        "\n",
        "$x(t) =  1,15e^{0.1t}u(t) + 1,26e^{0.2t}(e^{j(0.5t-2,05)}+e^{-j(0.5t-2,05)})u(t)$\n",
        "\n",
        "Pela fórmula de Euler:\n",
        "\n",
        "$x(t) =  1,15e^{0.1t}u(t) + 2,52e^{0.2t}\\cos(0.5t-2,05)u(t)$\n",
        "\n",
        "\n",
        "\n",
        "\n",
        "---"
      ]
    },
    {
      "cell_type": "markdown",
      "metadata": {
        "id": "IiCGeuArpgXY"
      },
      "source": [
        "### Caso em que $M<N$ com polos repetidos\n",
        "\n",
        "Aqui, vamos supor que um dos polos seja reptido $K$ vezes. Caso mais de um polo seja repetido, o procedimento é o mesmo. Com o polo $p_1$ repetido $K$ vezes, temos $X(s)$ escrito como:\n",
        "\n",
        "$X(s) = \\frac{b_Ms^M +...+b_2s^2+b_1s + b_0}{1 + a_{1}s+...+a_Ns^N} = \\frac{G(s-z_1)(s-z_2)...(s-z_M)}{(s-p_1)^K(s-p_{K+1})...(s-p_N)}$\n",
        "\n",
        "Aqui, não seria possível expandir $X(s)$ da mesma forma, por causa das raízes repetidas. Então, a expansão é feita para a seguinte forma:\n",
        "\n",
        "$X(s) = \\frac{B_1}{s-p_1} + \\frac{B_2}{(s-p_1)^2} + ... + \\frac{B_K}{(s-p_1)^K} + \\frac{A_{K+1}}{s-p_{k+1}} + ... +  \\frac{A_{M}}{s-p_{M}}$\n",
        "\n",
        "Os coeficientes $A_i$, correspondentes aos polos não repetidos, são encontrados da mesma maneira que no caso anterior. Para encontrar os coeficientes $B_i$, fazemos o seguinte procedimento:\n",
        "\n",
        "**1-** Multiplicamos as duas expressões por $(s-p_1)^K$ e cancelamos os termos que aparecem no numerador e denominador:\n",
        "\n",
        "$\\frac{A(s-z_1)(s-z_2)...(s-z_M)}{(s-p_{K+1})...(s-p_N)} = B_1(s-p_1)^{K-1} + B_2(s-p_1)^{K-2} + ... + B_K + \\frac{A_{K+1}(s-p_1)^K}{s-p_{k+1}} + ... +  \\frac{A_{M}(s-p_1)^K}{s-p_{M}}$\n",
        "\n",
        "**2-** Substituindo $s$ por $p_1$, encontramos $B_K$:\n",
        "\n",
        "$\\left.\\frac{A(s-z_1)(s-z_2)...(s-z_M)}{(s-p_{K+1})...(s-p_N)}\\right|_{s=p_1} = \\left.B_1(s-p_1)^{K-1}\\right|_{s=p_1} + \\left.B_2(s-p_1)^{K-2}\\right|_{s=p_1} + ... + \\left.B_K + \\frac{A_{K+1}(s-p_1)^K}{s-p_{k+1}}\\right|_{s=p_1} + ... +  \\left.\\frac{A_{M}(s-p_1)^K}{s-p_{M}}\\right|_{s=p_1}$\n",
        "\n",
        "$$B_K = \\left.\\frac{A(s-z_1)(s-z_2)...(s-z_M)}{(s-p_{K+1})...(s-p_N)}\\right|_{s=p_1}$$\n",
        "\n",
        "**3-** Para encontrar $B_{K-1}$, calculamos fazemos a derivada da expressão encontrada no passo 1.\n",
        "\n",
        "$\\frac{d}{ds}\\left(\\frac{A(s-z_1)(s-z_2)...(s-z_M)}{(s-p_{K+1})...(s-p_N)}\\right) = \\frac{d}{ds}\\left(B_1(s-p_1)^{K-1}\\right) + \\frac{d}{ds}\\left(B_2(s-p_1)^{K-2}\\right) + ... + \\frac{d}{ds}\\left(B_{K-1}(s-p_1)\\right) +\\frac{d}{ds}\\left(B_K\\right) + \\frac{d}{ds}\\left(\\frac{A_{K+1}(s-p_1)^K}{s-p_{k+1}}\\right) + ... +  \\frac{d}{ds}\\left(\\frac{A_{M}(s-p_1)^K}{s-p_{M}}\\right)$\n",
        "\n",
        "**4-** Isso faz com que o termo com $B_K$ desapareça e o termo $B_{K-1}$ fique sem estar multiplicando nada:\n",
        "\n",
        "$\\frac{d}{ds}\\left(\\frac{A(s-z_1)(s-z_2)...(s-z_M)}{(s-p_{K+1})...(s-p_N)}\\right) = (K-1)B_1(s-p_1)^{K-2} + (K-2)B_2(s-p_1)^{K-3} + ... + B_{K-1} + \\frac{d}{ds}\\left(\\frac{A_{K+1}(s-p_1)^K}{s-p_{k+1}}\\right) + ... +  \\frac{d}{ds}\\left(\\frac{A_{M}(s-p_1)^K}{s-p_{M}}\\right)$\n",
        "\n",
        "**5-** E fazemos de novo a substituição de s por $p_1$. Nessa etapa as derivadas com os coeficientes $A_i$ irão para zero:\n",
        "\n",
        "$B_{K-1} = \\left.\\frac{d}{ds}\\left(\\frac{A(s-z_1)(s-z_2)...(s-z_M)}{(s-p_{K+1})...(s-p_N)}\\right)\\right|_{s=p_1}$\n",
        "\n",
        "**6-** Para encontrar os $B_i$ restantes, basta continuar derivando a expressão encontrada no passo 1 e substituir $s$ por $p_1$."
      ]
    },
    {
      "cell_type": "markdown",
      "metadata": {
        "id": "x_tnEm_kpgXZ"
      },
      "source": [
        "---\n",
        "\n",
        "#### Exemplo 5\n",
        "\n",
        "Vamos considerar a seguinte transformada de Laplace:\n",
        "\n",
        "$X(s) = \\frac{(s-0.5)(s+0.3)}{(s+0.5)^2(s+0.1)}$\n",
        "\n",
        "Para encontrar a sua transformada de Laplace inversa, primeiro vamos expandir em frações parciais:\n",
        "\n",
        "$X(s) = \\frac{A_1}{s+0.1} + \\frac{B_1}{s+0.5} + \\frac{B_2}{(s+0.5)^2}$\n",
        "\n",
        "Primeiro, encontrando $A_1$:\n",
        "\n",
        "$A_1 = \\frac{(-0.1-0.5)(-0.1+0.3)}{(-0.1+0.5)^2} = -0.75$\n",
        "\n",
        "Agora, $B_2$\n",
        "\n",
        "$B_2 = \\left.\\frac{(s-0.5)(s+0.3)}{s+0.1}\\right|_{s=_-0.5} = -0.5$\n",
        "\n",
        "E para achar $B_1$:\n",
        "\n",
        "$\\left.\\frac{d}{ds}\\left(\\frac{(s-0.5)(s+0.3)}{s+0.1} \\right)\\right|_{s=-0.5} = B_1$\n",
        "\n",
        "$B_1 = \\left.\\frac{(2s-0.2)(s+0.1)-(s^2-0.2s-0.15)}{(s+0.1)^2}\\right|_{s=-0.5} = 1.75$\n",
        "\n",
        "Então, $X(s)$ pode ser escrito da seguinte forma:\n",
        "\n",
        "$X(s) = \\frac{-0.75}{s+0.1} + \\frac{1.75}{s+0.5} - \\frac{0.5}{(s+0.5)^2}$\n",
        "\n",
        "Então, a transformada inversa é:\n",
        "\n",
        "$x(t) = -0.75e^{-0.1t}u(t) + 1.75(e)^{-0.5t}u(t) - 0.5te^{-0.5t}u(t)$\n",
        "\n",
        "---"
      ]
    },
    {
      "cell_type": "markdown",
      "metadata": {
        "id": "UkS5uqH1pgXZ"
      },
      "source": [
        "### Caso com $M = N$\n",
        "\n",
        "Caso o número de zeros seja igual o número de polos, antes de realizarmos o procedimento mostrado anteriormente, fazemos:\n",
        "\n",
        "$X(s) = \\frac{GN(s)}{D(s)} = G\\frac{D(s) + N(s) - D(s)}{D(s)} = G + G\\frac{N(s)-D(s)}{D(s)}$. Isso vai fazer com que o numerador fique com pelo menos um zero a menos. Após esse procedimento, é possível aplicar o método de frações parciais.\n",
        "\n",
        "---\n",
        "\n",
        "#### Exemplo 6\n",
        "\n",
        "Considere a seguinte transformada de Laplace:\n",
        "\n",
        "$X(s) = \\frac{s^2+0.3s+0.02}{s^2+0.1s-0.56}$\n",
        "\n",
        "Então, antes de iniciarmos o procedimento visto anteriormente, fazemos:\n",
        "\n",
        "$X(s) = 1 +  \\frac{s^2+0.3s+0.02 - (s^2+0.1s-0.56)}{s^2+0.1s-0.56} = 1 + \\frac{0.3s+0.58}{s^2+0.1s-0.56}$\n",
        "\n",
        "Agora, podemos expandir em frações parciais:\n",
        "\n",
        "$X(s) = 1 + \\frac{0.3s+0.58}{(s+0.8)(s-0.7)} = 1 + \\frac{A_1}{s+0.8} + \\frac{A_2}{s-0.7}$\n",
        "\n",
        "Encontrando os coeficientes $A_1$ e $A_2$:\n",
        "\n",
        "$A_1 = \\left.\\frac{0.3s+0.58}{(s-0.7)}\\right|_{s=-0.8} = -0.23$\n",
        "\n",
        "$A_2 = \\left.\\frac{0.3s+0.58}{(s+0.8)}\\right|_{s=0.7}=0.53$\n",
        "\n",
        "\n",
        "Então:\n",
        "\n",
        "$x(t) = \\delta(t) - 0.23e^{-0.8t}u(t) + 0.53e^{0.7t}u(t)$\n",
        "\n",
        "---\n"
      ]
    },
    {
      "cell_type": "markdown",
      "metadata": {
        "id": "GuzSGwbvpgXd"
      },
      "source": [
        "---"
      ]
    },
    {
      "cell_type": "markdown",
      "metadata": {
        "id": "K3R7lR6FpgXe"
      },
      "source": [
        "## Exercícios\n",
        "\n",
        "**1)** Encontre os sinais que deram origem às seguintes transformadas de Laplace:\n",
        "\n",
        "a) $X_1(s) = \\frac{s+3}{s²+4s+9}$\n",
        "\n",
        "b) $X_2(s) = \\frac{(s+1)^2}{s^2+4s+6}$\n",
        "\n",
        "c) $X_3(s) = \\frac{5}{(s+2)(s+3)}$\n",
        "\n",
        "d) $X_4(s) = \\frac{4}{(s+1)^3}$"
      ]
    },
    {
      "cell_type": "markdown",
      "metadata": {
        "id": "5xYq8E7QpgXe"
      },
      "source": [
        "2) Encontre os sinais que deram origem às seguintes transformadas de Laplace:\n",
        "\n",
        "a) $X_1(s) = \\frac{e^{-2s}(2s+1)}{s^2+5s+4}$\n",
        "\n",
        "b) $X_2(s) = \\frac{se^{-2s}+3}{s^2+s+1}$\n",
        "\n",
        "c) $X_3(s) = \\frac{e^{-3s}+e^{-2s}+1}{s^2+2s+3}$\n",
        "\n",
        "d) $X_4(s) = \\frac{(s+3)e^{-s}}{(s+4)^2}$"
      ]
    },
    {
      "cell_type": "markdown",
      "metadata": {
        "id": "8ckAMmf8aCbM"
      },
      "source": [
        "**3)** Encontre os sinais que deram origem às seguintes transformadas de Laplace:\n",
        "\n",
        "a) $X_1(s) = \\frac{4}{(s+1)^3}$\n",
        "\n",
        "b) $X_2(s) = \\frac{(s+3)e^{-s}}{(s+4)^2}$\n",
        "\n",
        "c) $x_3(s) = \\frac{s+1}{s^2+4s+4}$\n",
        "\n",
        "d) $x_4(s) = \\frac{s-3}{s^2+3s+2,25}$"
      ]
    },
    {
      "cell_type": "markdown",
      "metadata": {
        "id": "x13h430EaCbM"
      },
      "source": [
        "**4)** Encontre os sinais que deram origem às seguintes transformadas de Laplace:\n",
        "\n",
        "a) $X_1(s) = \\frac{4s^3-3s^2+5s+1}{(s+1)^3}$\n",
        "\n",
        "b) $X_2(s) = \\frac{s^2-2s-9}{s^2+4s+3}$\n",
        "\n",
        "c) $X_3(s) = \\frac{(s+1)^2}{s^2+4s+6}$\n",
        "\n",
        "d) $x_4(s) = \\frac{s^2-2s+3}{s^2+3s+2,25}$"
      ]
    },
    {
      "cell_type": "markdown",
      "source": [
        "***Exercício 1a.***\n",
        "\\\n",
        "\\\n",
        "\\begin{aligned}\n",
        "& X_1(s)=\\frac{5}{(s+2)(s+3)}=\\frac{A_1}{(s+2)}+\\frac{A_2}{(s+3)} \\\\\n",
        "& A_1 \\rightarrow \\frac{5(s+2)}{(s+2)(s+3)}=\\frac{A_1(s+2)}{(s+2)}+\\left.\\frac{A_2(s+2)}{(s+3)}\\right|_{s=-2} {\\rightarrow} \\,\\,A_1=\\frac{5}{(-2+3)}=5\n",
        "\\\n",
        "\\\\\n",
        "& \\left.A_2 \\rightarrow \\frac{5}{(s+2)}\\right|_{s=-3} \\longrightarrow A_2=\\frac{5}{-1}=-5 \\\\\n",
        "& X_1(s)=\\frac{5}{s+2}-\\frac{5}{s+3} \\\\\n",
        "\\\\\n",
        "& \\therefore x(t)=5 e^{-2 t} u(t)-5 e^{-3 t} u(t)\n",
        "\\end{aligned}\n",
        "\\\n",
        "\\\n",
        "\\\n",
        "***Exercício 1b.***\n",
        "\\\n",
        "\\\n"
      ],
      "metadata": {
        "id": "CeInw-V7pjl_"
      }
    },
    {
      "cell_type": "markdown",
      "metadata": {
        "id": "lL6yZoRYpgXe"
      },
      "source": [
        "## Referências\n",
        "\n",
        "- Ulaby, FT e Yagle, AE, Signals & Systems: Theory and Applications, 2018, [ss2.eecs.umich.edu](ss2.eecs.umich.edu)\n",
        "- Lathi, BP, Sinais e Sistemas Lineares, 2007\n",
        "- Oppenheim, M.  e Willsky, S., Sistemas e Sinais, 2010\n",
        "- Stewart, James. Cálculo - Volume 2, 2017\n",
        "- Brown, James, e Ruel Churchill. Variáveis complexas e aplicações. (9ª edição), 2015."
      ]
    },
    {
      "cell_type": "markdown",
      "metadata": {
        "id": "OxPBsQOApgXe"
      },
      "source": []
    },
    {
      "cell_type": "markdown",
      "source": [
        "***Exercício 2a.***\n",
        "\n",
        "\n",
        "\\\n",
        "\n",
        "\\begin{aligned}\n",
        "& \\text { (2) a) } X_1(s)=e^{-2 s}\\left(\\frac{2 s+1}{s^2+5 s+4}\\right)=e^{-2 s}\\left(\\frac{2 s+1}{(s+1)(s+4)}\\right)\\Longrightarrow \\frac{2 s+1}{(s+1)(s+4)}=\\frac{A_1}{(s+1)}+\\frac{A_2}{s+4} \\\\\n",
        "\\\\\n",
        "& A_1=\\left.\\frac{2 s+1}{s+4}\\right|_{s=-1}=\\frac{2(-1)+1}{-1+4}=\\frac{-1}{3},\\quad A_2=\\left.\\frac{2 s+1}{s+1}\\right|_{s=-4}=\\frac{2(-4)+1}{-4+1}=\\frac{-7}{-3}=\\frac{7}{3} \\\\\n",
        "\\\\\n",
        "& X_1(s)=e^{-2 s}\\left(-\\frac{1}{3(s+1)}+\\frac{7}{3(s+4)}\\right) ; \\quad x(t)=-\\frac{1}{3} e^{-(t-2)} u(t-2)+\\frac{7}{3} e^{-4(t-2)} u(t-2)\n",
        "\\end{aligned}\n",
        "\n",
        "\\\n",
        "\n",
        "\\\n",
        "\n",
        "***Exercício 2b.***\n",
        "\n",
        "\n",
        "\\\n",
        "\n",
        "2b)\n",
        "$$\n",
        "\\begin{aligned}\n",
        "\\text{I)}\\\\\n",
        "& \\frac{s e^{-2 s}+3}{s^2+s+1} \\Rightarrow \\frac{s}{\\left(s-\\left(-\\frac{1}{2}+\\sqrt{3} i\\right)\\left(s-\\left(-\\frac{1}{2}-\\sqrt{3} i\\right)\\right.\\right.}=\\frac{A_1}{\\left(s-\\left(-\\frac{1}{2}+\\sqrt{3} i\\right)\\right)}+\\frac{A_2}{\\left(s-\\left(-\\frac{1}{2}-\\sqrt{3} i\\right)\\right)} \\\\\n",
        "\\\\\n",
        "& A_1=\\left.\\frac{s}{\\left(s-\\left(-\\frac{1}{2} \\sqrt{3} i\\right)\\right)}\\right|_{s=\\left(-\\frac{1}{2}+\\sqrt{3} i\\right)}=\\frac{-\\frac{1}{2}+\\sqrt{3} i}{-\\frac{1}{2}+\\sqrt{3} i+\\frac{1}{2}+\\sqrt{3} i}=\\frac{-\\frac{1}{2}+\\sqrt{3} i}{2 \\sqrt{3} i} \\\\\n",
        "\\\\\n",
        "& A_1=\\frac{\\frac{13}{4} e^{i \\operatorname{arctg}(-2 \\sqrt{3})}}{2 \\sqrt{3} e^{i \\frac{\\pi}{2}}}=\\frac{3,25 e^{-i 1,29}}{3,46 e^{i \\pi / 2}}=0,94 e^{-i(1,29-\\pi / 2)} \\\\\n",
        "\\\\\n",
        "& A_2=0,94 e^{i(1,29-\\pi/2)}\\\\\n",
        "&\n",
        "\\end{aligned}\n",
        "$$\n",
        "\\begin{aligned}\n",
        "\\\\\n",
        "\\text{II)}\\\\\n",
        "& \\frac{3}{s^2+s+1}=\\frac{A_1}{\\left(s-\\left(-\\frac{1}{2}+\\sqrt{3} i\\right)\\right)}+\\frac{A_2}{\\left(s-\\left(-\\frac{1}{2}-\\sqrt{3} i\\right)\\right)}\n",
        "& ⟶ A_1=\\left.\\frac{3}{\\left(s-\\left(-\\frac{1}{2}-\\sqrt{3} i\\right)\\right)}\\right|_{s=-\\frac{1}{2}-\\sqrt{3} i}\n",
        "\\\\ & =\\frac{3}{2\\sqrt3 i} =\\frac{3}{2 \\sqrt{3} e^{i \\pi / 2}}=0,86 e^{-i \\pi / 2} \\\\\n",
        "\\\\\n",
        "& A_2=0,86 e^{i \\pi / 2}\n",
        "\\\\\n",
        "\\end{aligned}\n",
        "\n",
        "\\\n",
        "\n",
        "\\\n",
        "\n",
        "\\begin{aligned}\n",
        "\\begin{gather*}\n",
        "& x(t)=\\bigg( 0,94 e^{-i(1,29-\\pi / 2)} e^{(-1 / 2+\\sqrt{3} i)(t-2)}  +0,94 e^{i(1,29-\\pi / 2)} e^{(-1 / 2-\\sqrt{3} i)(t-2)}\\bigg) \\cdot u(t-2)\\\\\n",
        "&+\\left(0,86 e^{-i \\pi / 2} e^{(-1 / 2-\\sqrt{3} i) t}\\right. \\left.+0,86 e^{i \\pi / 2} e^{(-1 / 2+\\sqrt{3} i) t}\\right) u(t) \\\\\n",
        "\\\\\n",
        "& .:x(t)=\\left(2 \\cos (\\sqrt{3} t-1,29+\\pi / 2-2 \\sqrt{3}) e^{-\\frac{1}{2}(t-2)}\\right) u(t-2) \\\\\n",
        "&+\\left(2 \\cos \\left(\\sqrt{3} t-\\frac{\\pi}{2}\\right) e^{-1 / 2 t}\\right) u(t) \\\\\n",
        "\\end{gather*}\n",
        "\\end{aligned}\n",
        "\n",
        "***Exercício 2c. - FAZER ***\n",
        "\n",
        "\\\n",
        "\n",
        "\\\n",
        "\n",
        "***Exercício 2d.***\n",
        "\n",
        "\\\n",
        "\n",
        "\\\n",
        "\n",
        "\\begin{aligned}\n",
        "&  x_2(s)=\\frac{e^{-s}(s+3)}{(s+4)^2} \\Rightarrow \\frac{(s+3)}{(s+4)^2}=\\frac{A_1}{s+4}+\\frac{A_2}{(s+4)^2} \\Rightarrow \\frac{1}{s+4}-\\frac{1}{(s+4)^2} \\\\\n",
        "\\\\\n",
        "& s+3=A_1(s+4)+\\left.A_2\\right|_{s=-4} \\Rightarrow-4+3=A_2=-1 \\\\\n",
        "& \\frac{d}{d s}\\left(s+3=A_1(s+4)+A_2\\right)=1=A_1 \\\\\n",
        "\\\\\n",
        "& x(t)=e^{-2(t-1)} u(t-1)-(t-1) e^{-2(t-1)} u(t-1)\n",
        "\\end{aligned}"
      ],
      "metadata": {
        "id": "blxiWqKCnU0U"
      }
    },
    {
      "cell_type": "markdown",
      "source": [
        "***Exercício 3a.*** ***DÚVIDA***\n",
        "\n",
        "\\\n",
        "\n",
        "\\\n",
        "\n",
        "\\begin{aligned}\n",
        "& x_1(s)=\\frac{4}{(s+1)^3} \\\\\n",
        "& x_1(s)= 4\\left(\\frac{1}{(s+1)^3}\\right)=\\frac{A_1}{(s+1)}+\\frac{A_2}{(s+1)^2}+\\frac{A_3}{(s+1)^3} \\\\\n",
        "& A_3+A_2(s+1)+A_1(s+1)^2=4 \\Longrightarrow  A_3+\\left.A_2(s+1)\\right|_{s=-1}+\\left.A_1(s+1)^2\\right|_{s=-1}= 4 \\Longrightarrow A_3=4 \\\\\n",
        "\\\\\n",
        "& \\frac{d}{d s}\\left(A_3+A_2\\left(s+1)+A_1(s+1)^2\\right)\\bigg)=\\frac{d(4)}{d s} \\Rightarrow A_2+2 A_1 s+2 A_1=0\\right.\n",
        "\\end{aligned}\n",
        "\n",
        "\\\n",
        "\n",
        "\\\n",
        "\n",
        "***Exercício 3b.***\n",
        "\n",
        "\\\n",
        "\n"
      ],
      "metadata": {
        "id": "ZTbeKFvc9cFX"
      }
    }
  ],
  "metadata": {
    "kernelspec": {
      "display_name": "Python 3 (ipykernel)",
      "language": "python",
      "name": "python3"
    },
    "language_info": {
      "codemirror_mode": {
        "name": "ipython",
        "version": 3
      },
      "file_extension": ".py",
      "mimetype": "text/x-python",
      "name": "python",
      "nbconvert_exporter": "python",
      "pygments_lexer": "ipython3",
      "version": "3.10.11"
    },
    "colab": {
      "provenance": []
    }
  },
  "nbformat": 4,
  "nbformat_minor": 0
}