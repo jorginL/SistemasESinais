{
  "cells": [
    {
      "cell_type": "markdown",
      "id": "7e426493-0bab-49c1-8e91-51eb792a7a3b",
      "metadata": {
        "id": "7e426493-0bab-49c1-8e91-51eb792a7a3b"
      },
      "source": [
        "# Resposta em frequência de tempo discreto\n",
        "\n",
        "Renato Naville Watanabe"
      ]
    },
    {
      "cell_type": "markdown",
      "id": "1836e8b2",
      "metadata": {
        "id": "1836e8b2"
      },
      "source": [
        "Aqui, vamos analisar qual a resposta de um sistema discreto linear e invariante no tempo quando a entrada é uma exponencial complexa."
      ]
    },
    {
      "cell_type": "markdown",
      "id": "179db527",
      "metadata": {
        "id": "179db527"
      },
      "source": [
        "Vamos considerar uma entrada do tipo:\n",
        "\n",
        "$$x[n] = e^{j\\omega n}$$\n",
        "\n",
        "Considerando que um sistema tem a resposta ao impulso $h[n]$, a saída desse sistema (estado nulo) para a entrada $x[n]$ é:\n",
        "\n",
        "$$y[n] = \\displaystyle\\sum_{k=-\\infty}^\\infty h[k]e^{j\\omega(n-k)} = e^{j\\Omega n}\\underbrace{ \\displaystyle\\sum_{k=-\\infty}^\\infty h[n]e^{-j\\omega k}}_{H(e^{j\\omega})} = H(e^{j\\omega})e^{j\\omega n}$$\n",
        "\n",
        "A função $H(e^{j\\omega})$ é conhecida como **Função Resposta em Frequência**.  A expressão anterior mostra que se colocarmos uma exponencial complexa de qualquer frequência $\\omega$, a saída será uma exponencial complexa com a mesma frequência $\\omega$, multiplicada por $H(e^{j\\omega})$. Isso acontece porque a função $e^{j\\omega n}$ é uma **autofunção** de qualquer sistema linear e invariante no tempo.\n",
        "\n",
        "Note que, como a resposta em frequência é calculada a partir da resposta ao impulso, a resposta em frequência também caracteriza completamente o comportamento de um sistema discreto linear e invariante no tempo. Isso significa que se conhecermos a função resposta em frequência de um sistema linear e invariante no tempo, conhecemos completamente o seu comportamento.  Por isso, uma outra maneira de representar um sistema em um diagrama de blocos é com a sua resposta em frequência.\n",
        "\n",
        "<img src=https://github.com/jorginL/SistemasESinais/blob/Jorge/Imagens/respfreqdisc.png?raw=1 width=\"500\">\n",
        "\n",
        "Até agora, já conhecemos várias formas para caracterizar um sistema linear e invariante no tempo:\n",
        "\n",
        "- Equação de diferenças\n",
        "- Diagrama de blocos\n",
        "- Resposta ao impulso\n",
        "- Função de resposta em frequência"
      ]
    },
    {
      "cell_type": "markdown",
      "id": "e7e687ef",
      "metadata": {
        "id": "e7e687ef"
      },
      "source": [
        "---\n",
        "### Exemplo 1\n",
        "\n",
        "Vamos encontrar a resposta em frequência de um sistema que tenha a resposta ao impulso:\n",
        "\n",
        "$$h[n] = \\left(\\frac{1}{3}\\right)^nu[n]$$\n",
        "\n",
        "A função resposta em frequência desse sistema é:\n",
        "\n",
        "$$H(e^{j\\omega}) = \\displaystyle\\sum_{k-\\infty}^\\infty h[k]e^{-j\\omega k} = \\displaystyle\\sum_{k=-\\infty}^\\infty \\left(\\frac{1}{3}\\right)^ku[k]e^{-j\\omega k} = \\displaystyle\\sum_{k=0}^\\infty \\left(\\frac{e^{-j\\omega} }{3}\\right)^k $$\n",
        "\n",
        "Perceba que o somatório acima é a soma dos elementos de uma progressão geométrica com razão $\\frac{e^{-j\\omega} }{3}$. Então:\n",
        "\n",
        "$$H(e^{j\\omega}) = \\frac{1}{1-\\frac{e^{-j\\omega} }{3}} = \\frac{3}{3 - e^{-j\\omega}}$$\n",
        "---"
      ]
    },
    {
      "cell_type": "markdown",
      "id": "d29f9171",
      "metadata": {
        "id": "d29f9171"
      },
      "source": [
        "## Ganho e fase\n",
        "\n",
        "O valor de $H(e^{j\\omega})$ é um número complexo que pode ser escrito na forma polar:\n",
        "\n",
        "$$H(e^{j\\omega}) = |H(e^{j\\omega})|e^{j\\phi(\\omega)}$$\n",
        "\n",
        "O $|H(e^{j\\omega})|$ é o módulo de $H(e^{j\\omega})$, e muitas vezes é chamado de **ganho** do sistema. O termo $\\phi(\\omega)$ é a fase de $H(e^{j\\omega})$ e muitas é conhecido como **deslocamento de fase** do sistema.\n",
        "\n",
        "Então, quando um sinal $x[n] = e^{j\\omega n}$ é usado como entrada, a sua saída (estado nulo) será:\n",
        "\n",
        "$$y[n] = H(e^{j\\omega})e^{j\\omega n} = |H(e^{j\\omega})|e^{j\\phi(\\omega)}e^{j\\omega n} = |H(e^{j\\omega})|e^{j(\\omega n+\\phi(\\omega))}$$\n",
        "\n",
        "Quando o deslocamento de fase é zero, dizemos que a entrada em saída estão **em fase**.\n",
        "\n",
        "Analisando a expressão da função de resposta em frequência, chegamos em duas propriedades (fica como exercício a prova):\n",
        "\n",
        "- $|H(e^{j\\omega})| = |H(e^{-j\\omega})|$\n",
        "\n",
        "- $\\phi(\\omega) = - \\phi(-\\omega)$\n"
      ]
    },
    {
      "cell_type": "markdown",
      "id": "a0c648ee",
      "metadata": {
        "id": "a0c648ee"
      },
      "source": [
        "___\n",
        "### Exemplo 2\n",
        "\n",
        "Considerando o exemplo anterior, vamos calcular o ganho e o deslocamento de fase da resposta em frequência. A resposta em frequência é:\n",
        "\n",
        "$$H(e^{j\\omega}) = \\frac{3}{3 - e^{-j\\omega}}$$\n",
        "\n",
        "O ganho é:\n",
        "\n",
        "$$|H(e^{j\\omega})| = \\left|\\frac{3}{3 - e^{-j\\omega}} \\right| = \\frac{3}{|3-\\cos(-\\omega) - j\\mathrm{sen}(-\\omega)|} = \\frac{3}{\\sqrt{(3-\\cos(-\\omega))^2 + \\mathrm{sen}(-\\omega)^2}} = \\frac{3}{\\sqrt{10 - 6\\cos(\\omega)}}$$\n",
        "\n",
        "e o deslocamento de fase é:\n",
        "\n",
        "$$\\phi(\\omega) = -\\arctan\\left(\\frac{\\mathrm{sen}(\\omega)}{3-\\cos(\\omega)}\\right)$$\n",
        "___"
      ]
    },
    {
      "cell_type": "markdown",
      "id": "131041d5",
      "metadata": {
        "id": "131041d5"
      },
      "source": [
        "---\n",
        "### Exemplo 3\n",
        "\n",
        "Considerando o ganho e deslocamento de fase do exemplo anterior, vamos encontrar o sinal de saída (considerando estado inicial nulo) do sistema se for usado como sinal de entrada $x[n] = e^{j2 n}$.\n",
        "\n",
        "Nesse caso, $\\omega=2$ rad. O ganho e deslocamento de fase para essa frequência angular é:\n",
        "\n",
        "$$|H(e^{j2})|  = \\frac{3}{\\sqrt{10 - 6\\cos(2)}}=0,85$$\n",
        "\n",
        "$$\\phi(2) =  -\\arctan\\left(\\frac{\\mathrm{sen}(2)}{3-\\cos(2)}\\right) = - 0,26$$\n",
        "\n",
        "\n",
        "Então, a saída do sistema é:\n",
        "\n",
        "$$y[n] = |H(e^{j2})|e^{j(2n+\\phi(2))} = 0,85e^{j\\left(2n-0,26\\right)} $$\n",
        "---"
      ]
    },
    {
      "cell_type": "markdown",
      "id": "347ed0dd",
      "metadata": {
        "id": "347ed0dd"
      },
      "source": [
        "##"
      ]
    },
    {
      "cell_type": "markdown",
      "id": "096157fa",
      "metadata": {
        "id": "096157fa"
      },
      "source": [
        "## Resposta em frequência a partir de uma equação diferencial\n",
        "\n",
        "Considerando o formato geral de uma equação de diferenças de um sistema linear e invariante no tempo:\n",
        "\n",
        "$$y[n] + a_{1}y[n-1]+...+a_Ny[n-N] = b_Mx[n-M] +...+b_2x[n-2]+b_1x[n-1] + b_0x[n] $$\n",
        "\n",
        "Se $x[n] = e^{j\\omega n}$, a sua saída será $y[n] = H(e^{j\\omega})e^{j\\omega n}$. Então:\n",
        "\n",
        "$$H(e^{j\\omega})e^{j\\omega n} + a_{1}H(e^{j\\omega})e^{j\\omega (n-1)}+...+a_NH(e^{j\\omega})e^{j\\omega (n-N)} = b_Me^{j\\omega (n-M)} +...+b_2e^{j\\omega (n-2)}+b_1e^{j\\omega (n-1)} + b_0e^{j\\omega n} $$\n",
        "\n",
        "Colocando $e^{j\\omega n}$ em evidência:\n",
        "\n",
        "$$H(e^{j\\omega})e^{j\\omega n} + a_{1}H(e^{j\\omega})e^{j\\omega n}e^{-j\\omega)}+...+a_NH(e^{j\\omega})e^{j\\omega n}e^{-j\\omega N} = b_Me^{j\\omega n}e^{j\\omega M} +...+b_2e^{j\\omega n}e^{-j\\omega 2}+b_1e^{j\\omega n}e^{-j\\omega} + b_0e^{j\\omega n} $$\n",
        "\n",
        "\n",
        "Como $e{j\\omega n}$ nunca é igual a zero, podemos fazer:\n",
        "\n",
        "$$H(e^{j\\omega}) + a_{1}H(e^{j\\omega})e^{-j\\omega}+...+a_NH(e^{j\\omega})e^{-j\\omega N} = b_Me^{j\\omega M} +...+b_2e^{-j\\omega 2}+b_1e^{-j\\omega} + b_0 $$\n",
        "\n",
        "Então, a função resposta em frequência é:\n",
        "\n",
        "\n",
        "$$H(e^{j\\omega}) = \\frac{b_Me^{-j\\omega M} +...+b_2e^{-j\\omega 2}+b_1e^{-j\\omega} + b_0}{a_Ne^{-j\\omega N} + a_{N-1}e^{-j\\omega(N-1)}+...+1}$$"
      ]
    },
    {
      "cell_type": "markdown",
      "id": "1c576571",
      "metadata": {
        "id": "1c576571"
      },
      "source": [
        "___\n",
        "### Exemplo 4\n",
        "\n",
        "Considerando um sistema com a seguinte equação de diferenças:\n",
        "\n",
        "$$y[n] + 3y[n-1] - 2y[n-2] = x[n] - 2x[n-1]$$\n",
        "\n",
        "Então a resposta em frequência desse sistema é:\n",
        "\n",
        "$$H(e^{j\\omega}) = \\frac{1 -2e^{-j\\omega}}{1+3e^{-j\\omega} - 2e^{-2j\\omega}}$$\n",
        "\n",
        "___"
      ]
    },
    {
      "cell_type": "markdown",
      "id": "8584e272",
      "metadata": {
        "id": "8584e272"
      },
      "source": [
        "## Sistemas em cascata\n",
        "\n",
        "Se dois sistemas forem colocados em cascata, a resposta em frequência do sistema conjunto será a multiplicação das respostas em frequência dos dois sistemas.\n",
        "\n",
        "<img src=https://github.com/jorginL/SistemasESinais/blob/Jorge/Imagens/respfreqdisccascata.png?raw=1 width=\"700\">\n",
        "\n",
        "\n",
        "$$H(j\\omega) = H_1(j\\omega)H_2(j\\omega)$$"
      ]
    },
    {
      "cell_type": "markdown",
      "id": "2d58fc0a",
      "metadata": {
        "id": "2d58fc0a"
      },
      "source": [
        "## Resposta de entradas senoidais\n",
        "\n",
        "Vamos considerar um sistema linear e invariante no tempo com uma resposta em frequência $H(e^{j\\omega})$ e uma entrada $x[n] = \\cos(\\omega n+\\theta)$.  Primeiro, vamos reescrever o sinal de entrada como uma soma de duas exponenciais complexas.\n",
        "\n",
        "$x[n] = \\cos(\\omega n+\\theta) = \\frac{e^{j(\\omega n + \\theta)} + e^{-j(\\omega n + \\theta)}}{2} = \\frac{e^{j\\omega n}e^{j\\theta} + e^{-j\\omega n}e^{-j\\theta}}{2} $\n",
        "\n",
        "\n",
        "Então, a saída do sistema para essa entrada é:\n",
        "\n",
        "$y[n] = \\frac{|H(e^{j\\omega})|e^{j(\\omega n+\\phi(\\omega))}e^{j\\theta} + |H(e^{-j\\omega})|e^{-j\\omega n+j\\phi(-\\omega)}e^{-j\\theta}}{2} = \\frac{|H(e^{j\\omega})|e^{j(\\omega n+\\theta+\\phi(\\omega))} + |H(e^{j\\omega})|e^{-j(\\omega n+\\theta+\\phi(\\omega))}}{2} = |H(e^{j\\omega})| \\frac{e^{j(\\omega n+\\theta+\\phi(\\omega))} + e^{-j(\\omega n+\\theta+\\phi(\\omega))}}{2} =  |H(e^{j\\omega})|\\cos(\\omega n+\\theta+\\phi(\\omega))$\n",
        "\n",
        "<img src=https://github.com/jorginL/SistemasESinais/blob/Jorge/Imagens/respfreqdisccos.png?raw=1 width=\"700\">"
      ]
    },
    {
      "cell_type": "markdown",
      "id": "8d9b2a69",
      "metadata": {
        "id": "8d9b2a69"
      },
      "source": [
        "---\n",
        "### Exemplo 5\n",
        "\n",
        "Considerando o mesmo sistema do Exemplo 1. Vamos agora considerar a entrada $x[n] = \\cos(4n)$.  Nesse caso, a frequência angular é $\\omega=4$ rad. O ganho e o deslocamento de fase do sistema para essa frequência é:\n",
        "\n",
        "$$|H(e^{j4})|  = \\frac{3}{\\sqrt{10 - 6\\cos(4)}} = 0,80$$\n",
        "\n",
        "$$\\phi(4) =  -\\arctan\\left(\\frac{\\mathrm{sen}(4)}{3-\\cos(4)}\\right)=0,2$$\n",
        "\n",
        "Então, a saída será:\n",
        "\n",
        "$$y[n] = |H(e^{j4})|\\cos(4n+\\phi(4)) = 0,8\\cos(4n+0,2) = 0.8\\cos(4n+11,46º)$$\n",
        "\n",
        "---"
      ]
    },
    {
      "cell_type": "markdown",
      "id": "77f3b305",
      "metadata": {
        "id": "77f3b305"
      },
      "source": [
        "## Observações\n",
        "\n",
        "Os sinais que consideramos aqui foram sinais do tipo:\n",
        "\n",
        "$x[n] = \\cos(\\omega n+\\theta)$ e $x[n] = e^{j\\omega n}$.\n",
        "\n",
        "Eles têm esse comportamento desde $n=-\\infty$. Sinais do tipo:\n",
        "\n",
        "$x[n] = \\cos(\\omega n+\\theta)u[n]$ e $x[n] = e^{j\\omega n}u[n]$\n",
        "\n",
        "não foram considerados aqui. Quando sinais desse tipo ( que têm seu início em $n=0$) são usados como entrada, a sua saída pode ser dividida em duas partes:\n",
        "\n",
        "$$y[n] = y_T[n] + y_{RP}[n]$$\n",
        "\n",
        "$y_T[n]$ corresponde ao que é conhecido como **transitório**. Essa parte fica desprezível depois de algum tempo. O sinal $y_{RP}[n]$ é conhecido como **regime permanente** e é o sinal que calculamos aqui usando a função resposta em frequência. Como os sinais de entrada que consideramos aqui começaram em $n=-\\infty$ a parte transitória já sumiu e temos apenas a parte do regime permanente. O cálculo da parte transitória será abordada posteriormente."
      ]
    },
    {
      "cell_type": "markdown",
      "id": "16fbf1f9",
      "metadata": {
        "id": "16fbf1f9"
      },
      "source": [
        "## Exercícios\n",
        "\n",
        "**1)**  Encontre as funções resposta em frequência dos sistemas descritos pelas equações de diferenças abaixo e a sua saída para as entradas correspondentes:\n",
        "\n",
        "a) $y[n] = -2y[n-2] + x[n] - x[n-1]$ com entrada $x[n] = \\cos\\left(\\frac{\\pi}{2} n\\right)$\n",
        "\n",
        "b) $y[n] = 2x[n] + 0.2x[n-1] - x[n-2]$ com entrada $x[n] \\cos\\left(\\frac{\\pi}{4} n\\right)$\n",
        "\n",
        "c) $y[n] + y[n-1] = x[n] - x[n-1]$ com entrada $x[n] = 2 + \\cos\\left(\\frac{\\pi}{6}n +\\frac{\\pi}{4}\\right)$\n",
        "\n",
        "d) $5y[n] = -3y[n-1] - y[n-2] + 7x[n] + 6x[n-1] + x[n-2]$ com entrada $x[n] = 7 + 3\\cos\\left(\\frac{\\pi}{2} n \\right)+3\\cos(\\pi n)$"
      ]
    },
    {
      "cell_type": "markdown",
      "id": "70350192",
      "metadata": {
        "id": "70350192"
      },
      "source": [
        "**2)** Se a entrada de um sistema é:\n",
        "\n",
        "$$x[n] = \\cos\\left(\\frac{2\\pi}{3}n \\right) + \\cos\\left(\\frac{\\pi}{2}n\\right)$$\n",
        "\n",
        "e o sistema é descrito pela seguinte equação de diferenças:\n",
        "\n",
        "$$y[n] = -ay[n-1] + x[n]+bx[n-1]+x[n-2]$$\n",
        "\n",
        "Para qual valor de $a$ e $b$ a saída será:\n",
        "\n",
        "$$y[n] = \\mathrm{sen}\\left(\\frac{\\pi}{2}n\\right)$$"
      ]
    },
    {
      "cell_type": "markdown",
      "id": "a3bfd196",
      "metadata": {
        "id": "a3bfd196"
      },
      "source": [
        "## Referências\n",
        "\n",
        "- Ulaby, FT e Yagle, AE, Signals & Systems: Theory and Applications, 2018, [ss2.eecs.umich.edu](ss2.eecs.umich.edu)\n",
        "- Oppenheim, M.  e Willsky, S., Sistemas e Sinais, 2010\n",
        "- Lathi, BP, Sinais e Sistemas Lineares, 2007"
      ]
    },
    {
      "cell_type": "markdown",
      "id": "5a7eebc8-556a-4353-b9f9-fb38e24d1cbc",
      "metadata": {
        "id": "5a7eebc8-556a-4353-b9f9-fb38e24d1cbc"
      },
      "source": [
        "## Solução dos exercícios"
      ]
    },
    {
      "cell_type": "markdown",
      "source": [
        "**exercio 1**\n",
        "$$\\phi(4) =  -\\arctan\\left(\\frac{\\mathrm{sen}(4)}{3-\\cos(4)}\\right)=0,15$$\n",
        "temos como resultado isso!"
      ],
      "metadata": {
        "id": "ok-Q-PpODUkb"
      },
      "id": "ok-Q-PpODUkb"
    },
    {
      "cell_type": "code",
      "execution_count": null,
      "id": "54372773-755d-44de-aa7a-10d85b6ef962",
      "metadata": {
        "id": "54372773-755d-44de-aa7a-10d85b6ef962"
      },
      "outputs": [],
      "source": []
    }
  ],
  "metadata": {
    "kernelspec": {
      "display_name": "Python 3 (ipykernel)",
      "language": "python",
      "name": "python3"
    },
    "language_info": {
      "codemirror_mode": {
        "name": "ipython",
        "version": 3
      },
      "file_extension": ".py",
      "mimetype": "text/x-python",
      "name": "python",
      "nbconvert_exporter": "python",
      "pygments_lexer": "ipython3",
      "version": "3.10.11"
    },
    "colab": {
      "provenance": []
    }
  },
  "nbformat": 4,
  "nbformat_minor": 5
}