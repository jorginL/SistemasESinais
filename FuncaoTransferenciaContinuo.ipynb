{
  "cells": [
    {
      "cell_type": "markdown",
      "metadata": {
        "id": "CEqUgEJEHtb0"
      },
      "source": [
        "# Função de transferência de sistemas contínuos\n",
        "\n",
        "Renato Naville Watanabe"
      ]
    },
    {
      "cell_type": "markdown",
      "metadata": {
        "id": "8jFgJrBVHtcG"
      },
      "source": [
        "## Preparação do ambiente"
      ]
    },
    {
      "cell_type": "code",
      "execution_count": null,
      "metadata": {
        "tags": [],
        "id": "7rir-oinHtcI"
      },
      "outputs": [],
      "source": [
        "import matplotlib.pyplot as plt\n",
        "import sympy as sym"
      ]
    },
    {
      "cell_type": "markdown",
      "metadata": {
        "id": "gHVAbqXrHtcT"
      },
      "source": [
        "## Definição do problema\n",
        "\n",
        "Aqui, vamos considerar o formato geral de uma equação diferencial de um sistema linear e invariante no tempo:\n",
        "\n",
        "$$\\frac{d^Ny}{dt^N} + a_{N-1}\\frac{d^{N-1}y}{dt^{N-1}}+...+a_0y(t) = b_M\\frac{d^Mx}{dt^M} +...+b_2\\frac{d^2x}{dt^2}+b_1\\frac{dx}{dt} + b_0x(t) $$\n",
        "\n",
        "Como já vimos anteriormente, a solução desta equação é formada por duas partes:\n",
        "\n",
        "$$y(t) = y_{zi}(t) + y_{zs}(t)$$\n",
        "\n",
        "em que $y_{zi}(t)$ é a parte de $y$ devida às condições iniciais do sinal de saída (os valores de $y(0), \\frac{dy}{dt}(0), ..., \\frac{d^{N-1}y}{dt^{N-1}}(0)$). Para o cálculo dessa componente, considera-se que a entrada $x(t)$ é nula ($zi$ é de *zero input*, **entrada nula** em inglês).\n",
        "\n",
        "A outra componente, $y_{zs}(t)$, é devido à entrada $x(t)$. Para o cálculo dessa componente consideramos que os valores de $y(0), \\frac{dy}{dt}(0), ..., \\frac{d^{N-1}y}{dt^{N-1}}(0)$ são todos iguais a 0 ($zs$ é de *zero state*, **estado nulo** em inglês, às vezes também chamado de **repouso**).\n",
        "\n",
        "Vamos agora encontrar essas duas partes da solução utilizando transformada de Laplace. É consideravelmente mais simples do que o método clássico."
      ]
    },
    {
      "cell_type": "markdown",
      "metadata": {
        "id": "BHx5g2RyHtcV"
      },
      "source": [
        "## Resposta de estado nulo\n",
        "\n",
        "\n",
        "\n",
        "Como já vimos anteriormente, a transformada de Laplace de $\\frac{d^mx}{dt^m}$ é:\n",
        "\n",
        "$\\mathcal{L}\\left(\\frac{d^mx}{dt^m}\\right) = s^{m}X(s)$\n",
        "\n",
        "e a transformada Z de $\\frac{d^my}{dt^m}$ é:\n",
        "\n",
        "$\\mathcal{Z}\\left(\\frac{d^mx}{dt^m}\\right) = s^{m}Y(s)$"
      ]
    },
    {
      "cell_type": "markdown",
      "metadata": {
        "id": "uXFDVB3ZHtcX"
      },
      "source": [
        "Substituindo essas transformadas dos sinais atrasado na equação de diferenças, temos:\n",
        "\n",
        "$$s^NY(s) + a_{N-1}s^{N-1}Y(z)+...+a_0Y(z) = b_Ms^{M}X(s) +...+b_2s^2X(s)+b_1sX(s) + b_0X(s)$$\n",
        "\n",
        "Com isso, podemos definir a função $H(s)$:\n",
        "\n",
        "$H(s) = \\frac{Y(s)}{X(s)} = \\frac{b_Ms^M +...+b_2s^2+b_1s + b_0}{s^N + a_{N-1}s^{N-1}+...+a_0}$\n",
        "\n",
        "Essa função é conhecida como **função de transferência** do sistema. Ela é obtida diretamente dos coeficientes da equação diferencial."
      ]
    },
    {
      "cell_type": "markdown",
      "metadata": {
        "id": "W-IJcBY4Htcd"
      },
      "source": [
        "---\n",
        "\n",
        "### Exemplo 1\n",
        "\n",
        "Vamos considerar o sistema com a seguinte equação de diferenças:\n",
        "\n",
        "$\\frac{d^2y}{dt^2} + 3\\frac{dy}{dt} - 4y(t) = 3x(t) + \\frac{dx}{dt}$\n",
        "\n",
        "A função de transferência deste sistema é:\n",
        "\n",
        "$H(s) = \\frac{s+3}{s^2 + 3s-4}$\n",
        "\n",
        "---"
      ]
    },
    {
      "cell_type": "markdown",
      "metadata": {
        "id": "tJymuIfgHtcg"
      },
      "source": [
        "---\n",
        "\n",
        "### Exemplo 2\n",
        "\n",
        "Vamos considerar o sistema com a seguinte equação diferencial:\n",
        "\n",
        "$\\frac{dy}{dt}  = -0.5y(t) + x(t)$\n",
        "\n",
        "A função de transferência deste sistema é:\n",
        "\n",
        "$H(s) = \\frac{1}{s + 0.5}$\n",
        "\n",
        "---"
      ]
    },
    {
      "cell_type": "markdown",
      "metadata": {
        "id": "xKXLB76CHtcj"
      },
      "source": [
        "Observando a expressão da função de transferência, vemos que se $X(s) = 1$, $Y(s) = H(s)$. O sinal $x(t)$ que tem uma transformada de Laplace igual a 1 é o impulso de Dirac ($x(t)=\\delta(t)$). Portanto a função de transferência é a transformada de Laplace da resposta ao impulso.\n",
        "\n",
        "$H(s) = \\int_{0}^\\infty h(t)e^{-st}\\,dt$"
      ]
    },
    {
      "cell_type": "markdown",
      "metadata": {
        "id": "Fwjnu-HEHtcm"
      },
      "source": [
        "---\n",
        "\n",
        "### Exemplo 3\n",
        "\n",
        "A resposta ao impulso do sistema do exemplo 2 é:\n",
        "\n",
        "$h(t) = e^{-0.5t}u(t)$\n",
        "\n",
        "A transformada de Laplace dessa resposta ao impulso é:\n",
        "\n",
        "$H(s) = \\int_{0}^\\infty  e^{-0.5t}u(t) e^{-st}\\,dt= \\int_{0}^\\infty  e^{-(0.5+s)t} \\,dt = \\left.\\frac{e^{-(0.5+s)t}}{-(0.5+s)}\\right|_{t=0}^\\infty = \\frac{1}{s+0.5}$\n",
        "\n",
        "Como esperado, a função encontrada foi a mesma do exemplo 2.\n",
        "\n",
        "---"
      ]
    },
    {
      "cell_type": "markdown",
      "metadata": {
        "id": "VkEpABYtHtco"
      },
      "source": [
        "A partir da expressão da função de transferência, chegamos à expressão para $Y(s)$:\n",
        "\n",
        "$H(s) = \\frac{Y(s)}{X(s)} \\rightarrow Y(s) = H(s)X(s)$\n",
        "\n",
        "Também podemos chegar a essa expressão pela propriedade da convolução da transformada Z:\n",
        "\n",
        "$y(t) = h(t)*x(t) \\rightarrow Y(s) = H(s)X(s)$\n",
        "\n",
        "Tendo $Y(s)$, basta calcular a sua transformada inversa para encontrar $y(t)$."
      ]
    },
    {
      "cell_type": "markdown",
      "metadata": {
        "id": "9-SOuwHyHtcp"
      },
      "source": [
        "---\n",
        "\n",
        "### Exemplo 4\n",
        "\n",
        "Vamos considerar o mesmo sistema do exemplo 2 e encontrar o sinal de saída quando a entrada é um degrau.\n",
        "\n",
        "$x(t) = u(t)$\n",
        "\n",
        "A sua transformada de Lapalace é:\n",
        "\n",
        "$X(s) = \\frac{1}{s}$\n",
        "\n",
        "Então, a transformada de Laplace do sinal de saída é:\n",
        "\n",
        "$Y(s) = H(s)X(s) = \\frac{1}{s + 0.5}\\frac{1}{s} = \\frac{1}{s(s+0.5)} $\n",
        "\n",
        "Expandindo $Y(s)$ em frações parciais:\n",
        "\n",
        "$Y(s) = H(s)X(s) = \\frac{1}{s(s+0.5)} = \\frac{A_1}{s} + \\frac{A_2}{s+0.5}$\n",
        "\n",
        "Com\n",
        "\n",
        "$A_1 = \\left.\\frac{1}{s+0.5}\\right|_{s=0}=2$ e $A_2=\\left.\\frac{1}{s}\\right|_{s=-0.5}=-2$\n",
        "\n",
        "Então $Y(s)$ é:\n",
        "\n",
        "$Y(s) = \\frac{2}{s} - \\frac{2}{s+0.5}$\n",
        "\n",
        "Com a transformada de Laplace inversa de $Y(s)$, chegamos ao sinal de saída do sistema:\n",
        "\n",
        "$y(t) = 2u(t) - 2e^{-0.5t}u(t) = 2(1-e^{-0.5t})u(t)$\n",
        "\n",
        "Abaixo é mostrado o gráfico do sinal."
      ]
    },
    {
      "cell_type": "code",
      "execution_count": null,
      "metadata": {
        "scrolled": true,
        "tags": [],
        "id": "H43XPFZxHtcq",
        "outputId": "92670fc2-2868-4654-ea47-765f0886a176"
      },
      "outputs": [
        {
          "data": {
            "image/png": "[encoded data removed]",
            "text/plain": [
              "<Figure size 640x480 with 1 Axes>"
            ]
          },
          "metadata": {},
          "output_type": "display_data"
        }
      ],
      "source": [
        "t = sym.symbols('t')\n",
        "y = 2*(1-sym.exp(-0.5*t))*sym.Heaviside(t)\n",
        "sym.plot(y, (t, -1, 12));"
      ]
    },
    {
      "cell_type": "markdown",
      "metadata": {
        "id": "W_IadA1BHtc-"
      },
      "source": [
        "---"
      ]
    },
    {
      "cell_type": "markdown",
      "metadata": {
        "id": "K1Ys1CphHtc_"
      },
      "source": [
        "## Resposta de entrada nula\n",
        "\n",
        "Na resposta de entrada nula, considera-se que não existe entrada. Dessa maneira, a equação de diferenças fica:\n",
        "\n",
        "$$\\frac{d^Ny}{dt^N} + a_{N-1}\\frac{d^{N-1}y}{dt^{N-1}}+...+a_0y(t) = 0 $$\n",
        "\n",
        "Aqui, vamos considerar as condições iniciais. A transformada de Laplace de $\\frac{d^My}{dt^M}$ quando existem condições iniciais no sinal $y(t)$ é:\n",
        "\n",
        "$\\mathcal{Z}(\\frac{d^My}{dt^M}) = s^MX(s)-\\displaystyle\\sum_{k=2}^M s^{M-k}\\frac{d^{k-1}x}{dt^{k-1}}(0) - s^{M-1}x(0)$\n",
        "\n",
        "Fazendo essa substituição na equação diferencial, é possível obter a resposta de entrada nula.\n"
      ]
    },
    {
      "cell_type": "markdown",
      "metadata": {
        "id": "k0y5NgA5HtdC"
      },
      "source": [
        "---\n",
        "\n",
        "### Exemplo 5\n",
        "\n",
        "Vamos considerar o sistema do exemplo 1, com a seguinte equação de diferenças:\n",
        "\n",
        "$\\frac{d^2y}{dt^2} + 3\\frac{dy}{dt} - 4y(t) = 3x(t) + \\frac{dx}{dt}$\n",
        "\n",
        "com $y(0) = 1$ e $\\frac{dy}{dt}(0) = -1$ e um sinal de entrada $x(t) = \\mathrm{sen}\\left(2\\pi 2t\\right)u(t)$\n",
        "\n",
        "Primeiro, vamos encontrar a resposta de entrada nula. Então, a transformada de Laplace da resposta de entrada nula:\n",
        "\n",
        "$s^2Y_{zi}(s) -\\frac{dy}{dt}(0) - sy(0) + 3sY_{zi}(z) -3y(0)  - 4Y_{zi}(z) = 0$\n",
        "\n",
        "$Y_{zi}(z) = \\frac{3y(0) + \\frac{dy}{dt}(0)+sy(0)}{s^2 + 3s- 4} = \\frac{s+2}{s^2 + 3s- 4}$\n",
        "\n",
        "Agora, fazemos a expansão em frações parciais de $Y_{zi}(s)$:\n",
        "\n",
        "\n",
        "$Y_{zi}(s) = \\frac{s+2}{s^2 + 3s- 4} = \\frac{s+2}{(s+4)(s-1)} = \\frac{A_1}{s+4}+\\frac{A_2}{s-1}$\n",
        "\n",
        "$A_1 = \\left.\\frac{s+2}{(s-1)}\\right|_{s=-4} = 0.4$ e $A_2 = \\left.\\frac{s+2}{s+4}\\right|_{s=1} = 0.6$\n",
        "\n",
        "Agora, conseguimos encontrar $y_{zi}(t)$:\n",
        "\n",
        "$Y_{zi}(s) = \\frac{0.4}{s+4}-\\frac{0.6}{s-1} \\rightarrow y_{zi}(t) = 0.4e^{-4t}u(t) -0.6e^tu(t)$\n",
        "\n",
        "\n",
        "\n",
        "---"
      ]
    },
    {
      "cell_type": "markdown",
      "metadata": {
        "id": "wq2ikIRLHtdD"
      },
      "source": [
        "## Diagrama de blocos\n",
        "\n",
        "Com o conceito de transformada de Laplace, podemos agora introduzir uma nova forma, muito mais utilizada, de representar um integrador no diagrama de blocos.\n",
        "\n",
        "<img src=https://github.com/jorginL/SistemasESinais/blob/Jorge/Imagens/integscont.png?raw=1 width=\"400\">\n",
        "\n",
        "Com a transformada de Laplace é muito mais fácil obter a equação diferencial a partir do diagrama de blocos. Basta substituir os sinais por suas transformadas e lembrar que a convolução no domínio do tempo é uma multiplicação no domínio da frequência.\n",
        "\n",
        "---\n",
        "\n",
        "### Exemplo 6\n",
        "\n",
        "Considere o seguinte diagrama de blocos:\n",
        "\n",
        "<img src=https://github.com/jorginL/SistemasESinais/blob/Jorge/Imagens/diagexemploLaplace.png?raw=1 width=\"550\">\n",
        "\n",
        "Podemos chamar o resultado do somador à esquerda de $w(t)$. A sua transformada de Laplace é $W(s)$, que é igual a:\n",
        "\n",
        "$W(s) = X(s) - 3\\frac{1}{s}W(s)-5\\frac{1}{s^2}W(s) \\rightarrow W(s) = \\frac{X(s)}{1+3\\frac{1}{s}W(s)+5\\frac{1}{s^2}} = \\frac{X(s)s^2}{s^2+3s+5}$\n",
        "\n",
        "E agora,  $Y(s)$ é:\n",
        "\n",
        "$Y(s) = 2W(s) - 3\\frac{1}{s}W(s) = \\frac{(2s^2-3s)}{s^2+3s+5}X(s)$\n",
        "\n",
        "Então:\n",
        "\n",
        "$(s^2+3s+5)Y(s) = (2s^2-3s)X(s) \\rightarrow \\frac{d^2y}{dt^2}+3\\frac{dy}{dt}5y(t) = 2\\frac{d^2x}{dt^2}-3\\frac{dx}{dt}$\n",
        "\n",
        "Seria muito difícil obter a equação diferencial sem a transformada de Laplace.\n",
        "\n",
        "---"
      ]
    },
    {
      "cell_type": "markdown",
      "metadata": {
        "id": "ix7zRp_9HtdF"
      },
      "source": [
        "## Exercícios\n",
        "\n"
      ]
    },
    {
      "cell_type": "code",
      "execution_count": null,
      "metadata": {
        "id": "p14Cu4dfHtdG"
      },
      "outputs": [],
      "source": []
    },
    {
      "cell_type": "markdown",
      "metadata": {
        "id": "Av7Lr92lHtdI"
      },
      "source": [
        "## Referências\n",
        "\n",
        "- Ulaby, FT e Yagle, AE, Signals & Systems: Theory and Applications, 2018, [ss2.eecs.umich.edu](ss2.eecs.umich.edu)\n",
        "- Lathi, BP, Sinais e Sistemas Lineares, 2007\n",
        "- Oppenheim, M.  e Willsky, S., Sistemas e Sinais, 2010"
      ]
    },
    {
      "cell_type": "markdown",
      "metadata": {
        "id": "zqXbuNH8HtdK"
      },
      "source": [
        "## Solução dos exercícios"
      ]
    },
    {
      "cell_type": "markdown",
      "source": [
        "Transferência contínuo:\\\n",
        "\n",
        "\\\n",
        "\n",
        "\\\n",
        "\n",
        "***Exercício 3a.***\n",
        "\n",
        "\\\n",
        "\n",
        "\\\n",
        "\n",
        "a) $\\frac{d y}{d t}=-6 y(t)+x(t) ; \\quad x(t)=u(t)$\n",
        "\\\n",
        "rearranjando: \\\n",
        "$\\frac{d y}{d t}+6 y(t)=x(t)$\n",
        "\\\n",
        "Por meio da propriedade da transformada de laplace da convolução\n",
        "\\begin{aligned}\n",
        "H(s)=\\frac{Y(s)}{X(s)} \\Rightarrow H(s) & =\\frac{1}{s+6} \\Rightarrow Y(s)=H(s) X(s) \\\\\n",
        "Y(s) & =\\frac{1}{s+6} \\cdot \\frac{1}{s}\n",
        "\\end{aligned}\n",
        "Vamos encontrar $y(t)$ pelo método das fraçōes parciais:\n",
        "\\begin{gathered}\n",
        "\\frac{1}{s(s+6)}=\\frac{A_1}{s}+\\frac{A_2}{s+6} \\\\\n",
        "A_1=\\left.\\frac{1}{s+6}\\right|_{s=0}=\\frac{1}{6} \\quad, \\quad A_2=\\left.\\frac{1}{s}\\right|_{s=-6}=-\\frac{1}{6} .\n",
        "\\end{gathered}\n",
        "temos:\n",
        "$Y(s)=\\frac{1}{6 s}-\\frac{1}{6(s+6)}$\n",
        "\\\n",
        "Fazendo a transformada de laplace inversa:\n",
        "$y(t)=\\frac{u(t)}{6}-\\frac{e^{-6 t} u(t)}{6}$\n",
        "\\\n",
        "Parte permanente: $u(t)$ \\\n",
        "Parte tarnsitória: $-e^{-6 t}u(t)$\n",
        "\n",
        "\\\n",
        "\n",
        "\\\n",
        "\n",
        "***Exercício 3b.***\n",
        "\n",
        "\\\n",
        "\n",
        "\\\n",
        "\n",
        "b) $\\quad \\frac{d y}{d t}=4 y(t)+x(t) ; \\quad x(t)=e^{-3 t} u(t)$\n",
        "\\\n",
        "rearranjando,\n",
        "\\\n",
        "$ \\quad \\frac{d y}{d t}-4 y(t)=x(t)$ \\\\\n",
        "Por meio da propriedade da transformada de laplace da convolução\n",
        "\\\n",
        "\\begin{aligned}\n",
        "H(s)=\\frac{Y(s)}{X(s)} \\Rightarrow H(s) & =\\frac{1}{s-4} \\Rightarrow Y(s)=H(s) X(s) \\\\\n",
        "X(s)=\\frac{1}{s+3} \\Rightarrow Y(s) & \\Rightarrow H(s) X(s)=\\frac{1}{(s-4)(s+3)}\n",
        "\\end{aligned}\n",
        "Determinando $Y(s)$ pelo método das frações parciais:\n",
        "\\begin{gathered}\n",
        "Y(s)=\\frac{1}{(s-4)(s+3)}=\\frac{A_1}{(s-4)}+\\frac{A_2}{(s+3)} \\\\\n",
        "A_1=\\left.\\frac{1}{s+3}\\right|_{s=4}=\\frac{1}{7} \\quad ; \\quad A_2=\\left.\\frac{1}{(s-4)}\\right|_{s=-3}=-\\frac{1}{7}\n",
        "\\end{gathered}\n",
        "Fazendo a transformada de laplace inversa:\n",
        "\\begin{aligned}\n",
        "&y(t)=\\frac{e^{4 t} u(t)}{7}-\\frac{e^{-3 t} u(t)}{7}\n",
        "\\end{aligned}\n",
        "Parte permanente: $\\frac{e^{4 t} u(t)}{7}$;    \n",
        "Parte transitoria $=-\\frac{e^{-2 t} u(t)}{7}$\n",
        "\n",
        "\\\n",
        "\n",
        "\\\n",
        "\n",
        "\\\n",
        "***Exercício 3c.***\n",
        "\n",
        "\\\n",
        "\n",
        "\\\n",
        "\n",
        "c) $\\frac{d^2 y}{d t}=-\\frac{d y}{d t}+\\frac{d x}{d t}+x(t) ; \\quad x(t)=25 u(t)$\n",
        "rearranjando,\n",
        "$\\frac{d^2 y}{d t}+\\frac{d y}{d t}=\\frac{d x}{d t}+x(t)$ \\\n",
        "\\\n",
        "Por meio da propriedade da transformada de laplace da convolução\n",
        "\\begin{gathered}\n",
        "H(s)=\\frac{Y(s)}{X(s)} \\Rightarrow H(s)=\\frac{s+1}{s^2+s}-\\frac{s+1}{s(s+1)} \\Rightarrow Y(s)=H(s) X(s) \\\\\n",
        "X(s)=\\frac{25}{s} ; \\quad Y(s)=H(s) X(s)=\\frac{25(s+1)}{s^2(s+1)}\n",
        "\\end{gathered}\n",
        "Determinando $Y(s)$ por frações parciais\n",
        "\\begin{gathered}\n",
        "Y(s)=\\frac{s+1}{s^2(s+1)}=\\frac{A_1}{s}+\\frac{A_2}{s^2}+\\frac{A_3}{(s+1)} \\\\\n",
        "A_1=\\left.\\frac{25(s+1)}{s(s+1)}\\right|_{s=0}=0 ; \\quad A_2=\\left. \\frac{25(s+1)}{s+1}\\right|_{s=0}=25 ; \\quad A_3=\\left.\\frac{25(s+1)}{s^2}\\right|_{s=-1}=0\n",
        "\\end{gathered}\n",
        "fazendo a transformada de laplace inversa,\n",
        "$y(t)=25 t u(t)$\n",
        "Possui apenos parte permanente: $25tu(t)$\n",
        "\n",
        "\\\n",
        "\n",
        "\\\n",
        "\n",
        "***Exercício 3d.***\n",
        "\n",
        "\\\n",
        "\n",
        "\\\n",
        "\n",
        "d)\n",
        "\\begin{aligned}\n",
        "\\frac{d^2 y}{d^2 t}=-4 y(t)+x(t) ; \\quad & x(t)=\\cos (2 t) u(t) \\\\\n",
        "& \\frac{d^2 y}{d^2 t}+4 y(t)=x(t) \\\\\n",
        "H(s)=\\frac{Y(s)}{X(s)} \\Rightarrow & H(s)=\\frac{1}{s^2+4} \\Rightarrow Y(s)=H(s) X(s) \\\\\n",
        "& X(s)=\\frac{s}{s^2+4} \\Rightarrow Y(s)=H(s) X(s)=\\frac{s}{\\left(s^2+4\\right)^2}\n",
        "\\end{aligned}\n",
        "Sabendo que:\n",
        "\\begin{aligned}\n",
        "& \\mathcal L(t \\operatorname{sen}(k t))=\\frac{2 k s}{\\left(s^2+k^2\\right)^2} \\\\\n",
        "& y(t)=\\frac{t \\sin (2 t)}{4}\n",
        "\\end{aligned}\n",
        "\n",
        "\\\n",
        "\n",
        "\\\n",
        "\n",
        "\\\n",
        "\n",
        "***Exercício 3e.***\n",
        "\n",
        "\\\n",
        "\n",
        "\\\n",
        "\n",
        "\\begin{aligned}\n",
        "& \\text { e) } \\frac{d^2 y}{d t^2}=-4 \\frac{d y}{d t}-3 y(t)+4 \\frac{d x}{d t}+2 x(t) ; \\quad x(t)=e^{-t} u(t) \\\\\n",
        "& \\frac{d^2 y}{d t^2}+4 \\frac{d y}{dt}+y(t)=4 \\frac{d x}{d t}+2 x(t) \\\\\n",
        "\\\\\n",
        "\\\\\n",
        "& H(s)=\\frac{Y(s)}{X(s)} \\Rightarrow H(s)=\\frac{s+2}{s^2+4 s+1} \\Rightarrow Y(s)=H(s) X(s) \\\\\n",
        "& X(s)=\\frac{1}{s+1} \\Rightarrow y(s)=H(s) X(s)=\\frac{s+2}{(s-(-2+\\sqrt{3}))(s-(-2-\\sqrt{3}))(s+1)} \\\\\n",
        "\\\\\n",
        "\\\\\n",
        "& A_1=\\left.\\frac{s+2}{(s-(-2-\\sqrt{3})(s+1)}\\right|_{s=-2+\\sqrt{3}}=\\frac{\\sqrt{3}}{2 \\sqrt{3}+6} ; \\quad  A_2=\\left.\\frac{s+2}{(s-(-2+\\sqrt{3}))(s+1)}\\right|_{s=-2-\\sqrt{3}}= -\\frac{\\sqrt{3}}{2 \\sqrt{3}+6} \\\\\n",
        "& A_3=\\left.\\frac{s+2}{(s-(-2+\\sqrt{3}))(s-(2-\\sqrt{3}))}\\right|_{s =- 1}=\\frac{1}{5};\\\\\n",
        "\\\\\n",
        "\\\\\n",
        "& y(t)=\\frac{\\sqrt{3}}{2 \\sqrt{3}+6} e^{(-2+\\sqrt{3}) t} u(t)+\\frac{e^{-1 t} u(t)}{5} - \\frac{1}{5} e^{(-2-\\sqrt 3)t}\\\\\n",
        "&\n",
        "\\end{aligned}"
      ],
      "metadata": {
        "id": "NoK_v37TIrkd"
      }
    },
    {
      "cell_type": "code",
      "execution_count": null,
      "metadata": {
        "id": "S18hDwwTHtdL"
      },
      "outputs": [],
      "source": []
    }
  ],
  "metadata": {
    "kernelspec": {
      "display_name": "Python 3 (ipykernel)",
      "language": "python",
      "name": "python3"
    },
    "language_info": {
      "codemirror_mode": {
        "name": "ipython",
        "version": 3
      },
      "file_extension": ".py",
      "mimetype": "text/x-python",
      "name": "python",
      "nbconvert_exporter": "python",
      "pygments_lexer": "ipython3",
      "version": "3.10.11"
    },
    "colab": {
      "provenance": []
    }
  },
  "nbformat": 4,
  "nbformat_minor": 0
}